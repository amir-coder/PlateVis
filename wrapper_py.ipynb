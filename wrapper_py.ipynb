{
  "nbformat": 4,
  "nbformat_minor": 0,
  "metadata": {
    "colab": {
      "provenance": [],
      "authorship_tag": "ABX9TyO9715SzYdxWpq7z+SPpcJP",
      "include_colab_link": true
    },
    "kernelspec": {
      "name": "python3",
      "display_name": "Python 3"
    },
    "language_info": {
      "name": "python"
    }
  },
  "cells": [
    {
      "cell_type": "markdown",
      "metadata": {
        "id": "view-in-github",
        "colab_type": "text"
      },
      "source": [
        "<a href=\"https://colab.research.google.com/github/amir-coder/PlateVis/blob/main/wrapper_py.ipynb\" target=\"_parent\"><img src=\"https://colab.research.google.com/assets/colab-badge.svg\" alt=\"Open In Colab\"/></a>"
      ]
    },
    {
      "cell_type": "code",
      "source": [
        "!pip install fire"
      ],
      "metadata": {
        "colab": {
          "base_uri": "https://localhost:8080/"
        },
        "id": "VAwhaYBu921M",
        "outputId": "ba59d8dd-a0fa-4e2f-832c-ad83973e3bfe"
      },
      "execution_count": null,
      "outputs": [
        {
          "output_type": "stream",
          "name": "stdout",
          "text": [
            "Collecting fire\n",
            "  Downloading fire-0.5.0.tar.gz (88 kB)\n",
            "\u001b[2K     \u001b[90m━━━━━━━━━━━━━━━━━━━━━━━━━━━━━━━━━━━━━━━━\u001b[0m \u001b[32m88.3/88.3 kB\u001b[0m \u001b[31m1.6 MB/s\u001b[0m eta \u001b[36m0:00:00\u001b[0m\n",
            "\u001b[?25h  Preparing metadata (setup.py) ... \u001b[?25l\u001b[?25hdone\n",
            "Requirement already satisfied: six in /usr/local/lib/python3.10/dist-packages (from fire) (1.16.0)\n",
            "Requirement already satisfied: termcolor in /usr/local/lib/python3.10/dist-packages (from fire) (2.4.0)\n",
            "Building wheels for collected packages: fire\n",
            "  Building wheel for fire (setup.py) ... \u001b[?25l\u001b[?25hdone\n",
            "  Created wheel for fire: filename=fire-0.5.0-py2.py3-none-any.whl size=116934 sha256=22177df9a6a7fd69a7045686cb45b0ef87da35c1f0feffff251d473eb4bc90d8\n",
            "  Stored in directory: /root/.cache/pip/wheels/90/d4/f7/9404e5db0116bd4d43e5666eaa3e70ab53723e1e3ea40c9a95\n",
            "Successfully built fire\n",
            "Installing collected packages: fire\n",
            "Successfully installed fire-0.5.0\n"
          ]
        }
      ]
    },
    {
      "cell_type": "code",
      "source": [
        "import fire\n",
        "import pickle\n",
        "import logging\n",
        "\n",
        "import pandas as pd\n",
        "from sklearn.neighbors import KNeighborsClassifier\n",
        "\n",
        "logging.basicConfig(level=logging.INFO)\n",
        "logger = logging.getLogger(__name__)\n",
        "\n",
        "def load_model(model_path: str):\n",
        "    \"\"\"Loads model from `model_path`\"\"\"\n",
        "    with open(model_path, 'rb') as file:\n",
        "        saved_model = pickle.load(file)\n",
        "        return saved_model\n",
        "\n",
        "def save_model(model, model_path: str):\n",
        "    \"\"\"Saves `model` to `model_path`\"\"\"\n",
        "    with open(model_path, 'wb') as file:\n",
        "        pickle.dump(model, file)\n",
        "\n",
        "class Classifier:\n",
        "    \"\"\"\n",
        "    Some classifier, that makes some random classifications.\n",
        "    \"\"\"\n",
        "\n",
        "\n",
        "    def train(self, train_data_path: str, model_path: str, k: int = 5):\n",
        "        \"\"\"\n",
        "        Trains model on `train_data_path` data and saves trained model to `model_path`.\n",
        "        Additionaly you can set KNN classifier `k` parameter.\n",
        "        :param train_data_path: path to train data in csv format\n",
        "        :param model_path: path to save model to.\n",
        "        :param k: k-neighbors parameter of model.\n",
        "        \"\"\"\n",
        "        logger.info(f\"Loading train data from {train_data_path} ...\")\n",
        "        df = pd.read_csv(train_data_path)\n",
        "        X = df.drop(columns=['y'])\n",
        "        y = df['y']\n",
        "\n",
        "        logger.info(\"Running model training...\")\n",
        "        model = KNeighborsClassifier(n_neighbors=k)\n",
        "        model.fit(X, y)\n",
        "\n",
        "        logger.info(f\"Saving model to {model_path} ...\")\n",
        "        save_model(model, model_path)\n",
        "\n",
        "        logger.info(\"Successfully trained model.\")\n",
        "\n",
        "    def predict(self, predict_data_path: str, model_path: str, output_path: str):\n",
        "        \"\"\"\n",
        "        Predicts `predict_data_path` data using `model_path` model and saves predictions to `output_path`\n",
        "        :param predict_data_path: path to data for predictions\n",
        "        :param model_path: path to trained model\n",
        "        :param output_path: path to save predictions\n",
        "        \"\"\"\n",
        "        logger.info(f\"Loading data for predictions from {predict_data_path} ...\")\n",
        "        X = pd.read_csv(predict_data_path)\n",
        "\n",
        "        logger.info(f\"Loading model from {model_path} ...\")\n",
        "        model = load_model(model_path)\n",
        "\n",
        "        logger.info(\"Running model predictions...\")\n",
        "        y_pred = model.predict(X)\n",
        "\n",
        "        logger.info(f\"Saving predictions to {output_path} ...\")\n",
        "        pd.DataFrame(y_pred).to_csv(output_path)\n",
        "\n",
        "        logger.info(\"Successfully predicted.\")\n",
        "\n",
        "if __name__ == \"__main__\":\n",
        "    fire.Fire(Classifier)"
      ],
      "metadata": {
        "id": "rmFF1Nz1-O46"
      },
      "execution_count": null,
      "outputs": []
    }
  ]
}